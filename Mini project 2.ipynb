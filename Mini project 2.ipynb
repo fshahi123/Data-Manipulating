{
 "cells": [
  {
   "cell_type": "code",
   "execution_count": 11,
   "id": "4953748e-eeba-4a4a-8472-d114df2dcab6",
   "metadata": {},
   "outputs": [],
   "source": [
    "import pandas as pd\n",
    "import numpy as np\n",
    "import matplotlib.pyplot as plt\n",
    "import os"
   ]
  },
  {
   "cell_type": "code",
   "execution_count": 13,
   "id": "1858c539-f0b9-4bc2-ba7e-58cff0f3007a",
   "metadata": {},
   "outputs": [
    {
     "name": "stdout",
     "output_type": "stream",
     "text": [
      "['.ipynb_checkpoints', 'gender_submission.csv', 'test.csv', 'Titanic data cleaning.ipynb', 'train.csv']\n"
     ]
    }
   ],
   "source": [
    "print(os.listdir())"
   ]
  },
  {
   "cell_type": "code",
   "execution_count": 15,
   "id": "9a04d6c4-36f9-48df-b237-bbfc3a4d12ab",
   "metadata": {},
   "outputs": [],
   "source": [
    "titanic=pd.read_csv(\"test.csv\")"
   ]
  },
  {
   "cell_type": "code",
   "execution_count": 17,
   "id": "53f62068-1694-4780-af4d-2f1c44cfbaac",
   "metadata": {},
   "outputs": [
    {
     "name": "stdout",
     "output_type": "stream",
     "text": [
      "Index(['PassengerId', 'Pclass', 'Name', 'Sex', 'Age', 'SibSp', 'Parch',\n",
      "       'Ticket', 'Fare', 'Cabin', 'Embarked'],\n",
      "      dtype='object')\n"
     ]
    }
   ],
   "source": [
    "print(titanic.columns)"
   ]
  },
  {
   "cell_type": "code",
   "execution_count": 19,
   "id": "78da2453-03a3-44d4-ac07-7f023904b810",
   "metadata": {},
   "outputs": [],
   "source": [
    "titanic = titanic.drop_duplicates()"
   ]
  },
  {
   "cell_type": "code",
   "execution_count": 21,
   "id": "e0ab9967-d17a-4918-b858-579d698c0d40",
   "metadata": {},
   "outputs": [
    {
     "name": "stdout",
     "output_type": "stream",
     "text": [
      "Missing values found in the following columns:\n",
      "Age       86\n",
      "Fare       1\n",
      "Cabin    327\n",
      "dtype: int64\n"
     ]
    }
   ],
   "source": [
    "def check_missing_values(dataframe):\n",
    "    missing_values = dataframe.isnull().sum()\n",
    "    missing_values = missing_values[missing_values > 0]    \n",
    "    if missing_values.empty:\n",
    "        print(\"No missing values found in the DataFrame.\")\n",
    "    else:\n",
    "        print(\"Missing values found in the following columns:\")\n",
    "        print(missing_values)\n",
    "check_missing_values(titanic)"
   ]
  },
  {
   "cell_type": "code",
   "execution_count": 23,
   "id": "dc178988-f1fb-4faf-b68a-dbd5089f24b4",
   "metadata": {},
   "outputs": [
    {
     "name": "stdout",
     "output_type": "stream",
     "text": [
      "Original DataFrame:\n",
      "     PassengerId  Pclass                                          Name  \\\n",
      "0            892       3                              Kelly, Mr. James   \n",
      "1            893       3              Wilkes, Mrs. James (Ellen Needs)   \n",
      "2            894       2                     Myles, Mr. Thomas Francis   \n",
      "3            895       3                              Wirz, Mr. Albert   \n",
      "4            896       3  Hirvonen, Mrs. Alexander (Helga E Lindqvist)   \n",
      "..           ...     ...                                           ...   \n",
      "413         1305       3                            Spector, Mr. Woolf   \n",
      "414         1306       1                  Oliva y Ocana, Dona. Fermina   \n",
      "415         1307       3                  Saether, Mr. Simon Sivertsen   \n",
      "416         1308       3                           Ware, Mr. Frederick   \n",
      "417         1309       3                      Peter, Master. Michael J   \n",
      "\n",
      "        Sex   Age  SibSp  Parch              Ticket      Fare Cabin Embarked  \n",
      "0      male  34.5      0      0              330911    7.8292   NaN        Q  \n",
      "1    female  47.0      1      0              363272    7.0000   NaN        S  \n",
      "2      male  62.0      0      0              240276    9.6875   NaN        Q  \n",
      "3      male  27.0      0      0              315154    8.6625   NaN        S  \n",
      "4    female  22.0      1      1             3101298   12.2875   NaN        S  \n",
      "..      ...   ...    ...    ...                 ...       ...   ...      ...  \n",
      "413    male   NaN      0      0           A.5. 3236    8.0500   NaN        S  \n",
      "414  female  39.0      0      0            PC 17758  108.9000  C105        C  \n",
      "415    male  38.5      0      0  SOTON/O.Q. 3101262    7.2500   NaN        S  \n",
      "416    male   NaN      0      0              359309    8.0500   NaN        S  \n",
      "417    male   NaN      1      1                2668   22.3583   NaN        C  \n",
      "\n",
      "[418 rows x 11 columns]\n",
      "\n",
      "DataFrame after filling missing values:\n",
      "     PassengerId  Pclass                                          Name  \\\n",
      "0            892       3                              Kelly, Mr. James   \n",
      "1            893       3              Wilkes, Mrs. James (Ellen Needs)   \n",
      "2            894       2                     Myles, Mr. Thomas Francis   \n",
      "3            895       3                              Wirz, Mr. Albert   \n",
      "4            896       3  Hirvonen, Mrs. Alexander (Helga E Lindqvist)   \n",
      "..           ...     ...                                           ...   \n",
      "413         1305       3                            Spector, Mr. Woolf   \n",
      "414         1306       1                  Oliva y Ocana, Dona. Fermina   \n",
      "415         1307       3                  Saether, Mr. Simon Sivertsen   \n",
      "416         1308       3                           Ware, Mr. Frederick   \n",
      "417         1309       3                      Peter, Master. Michael J   \n",
      "\n",
      "        Sex       Age  SibSp  Parch              Ticket      Fare  \\\n",
      "0      male  34.50000      0      0              330911    7.8292   \n",
      "1    female  47.00000      1      0              363272    7.0000   \n",
      "2      male  62.00000      0      0              240276    9.6875   \n",
      "3      male  27.00000      0      0              315154    8.6625   \n",
      "4    female  22.00000      1      1             3101298   12.2875   \n",
      "..      ...       ...    ...    ...                 ...       ...   \n",
      "413    male  30.27259      0      0           A.5. 3236    8.0500   \n",
      "414  female  39.00000      0      0            PC 17758  108.9000   \n",
      "415    male  38.50000      0      0  SOTON/O.Q. 3101262    7.2500   \n",
      "416    male  30.27259      0      0              359309    8.0500   \n",
      "417    male  30.27259      1      1                2668   22.3583   \n",
      "\n",
      "               Cabin Embarked  \n",
      "0    B57 B59 B63 B66        Q  \n",
      "1    B57 B59 B63 B66        S  \n",
      "2    B57 B59 B63 B66        Q  \n",
      "3    B57 B59 B63 B66        S  \n",
      "4    B57 B59 B63 B66        S  \n",
      "..               ...      ...  \n",
      "413  B57 B59 B63 B66        S  \n",
      "414             C105        C  \n",
      "415  B57 B59 B63 B66        S  \n",
      "416  B57 B59 B63 B66        S  \n",
      "417  B57 B59 B63 B66        C  \n",
      "\n",
      "[418 rows x 11 columns]\n"
     ]
    },
    {
     "name": "stderr",
     "output_type": "stream",
     "text": [
      "C:\\Users\\Fahim Shahi\\AppData\\Local\\Temp\\ipykernel_16048\\2859243926.py:11: FutureWarning: A value is trying to be set on a copy of a DataFrame or Series through chained assignment using an inplace method.\n",
      "The behavior will change in pandas 3.0. This inplace method will never work because the intermediate object on which we are setting values always behaves as a copy.\n",
      "\n",
      "For example, when doing 'df[col].method(value, inplace=True)', try using 'df.method({col: value}, inplace=True)' or df[col] = df[col].method(value) instead, to perform the operation inplace on the original object.\n",
      "\n",
      "\n",
      "  dataframe[column].fillna(mean_value, inplace=True)\n",
      "C:\\Users\\Fahim Shahi\\AppData\\Local\\Temp\\ipykernel_16048\\2859243926.py:8: FutureWarning: A value is trying to be set on a copy of a DataFrame or Series through chained assignment using an inplace method.\n",
      "The behavior will change in pandas 3.0. This inplace method will never work because the intermediate object on which we are setting values always behaves as a copy.\n",
      "\n",
      "For example, when doing 'df[col].method(value, inplace=True)', try using 'df.method({col: value}, inplace=True)' or df[col] = df[col].method(value) instead, to perform the operation inplace on the original object.\n",
      "\n",
      "\n",
      "  dataframe[column].fillna(mode_value, inplace=True)\n"
     ]
    }
   ],
   "source": [
    "print(\"Original DataFrame:\")\n",
    "print(titanic)\n",
    "\n",
    "def fill_missing_values(dataframe):\n",
    "    for column in dataframe.columns:\n",
    "        if dataframe[column].dtype == 'object':  \n",
    "            mode_value = dataframe[column].mode()[0]  \n",
    "            dataframe[column].fillna(mode_value, inplace=True)  \n",
    "        else: \n",
    "            mean_value = dataframe[column].mean() \n",
    "            dataframe[column].fillna(mean_value, inplace=True)  \n",
    "fill_missing_values(titanic)\n",
    "print(\"\\nDataFrame after filling missing values:\")\n",
    "print(titanic)"
   ]
  },
  {
   "cell_type": "code",
   "execution_count": 25,
   "id": "9fb65002-edb0-4832-ba6c-5969e6a655f5",
   "metadata": {},
   "outputs": [
    {
     "name": "stdout",
     "output_type": "stream",
     "text": [
      "No missing values found in the DataFrame.\n"
     ]
    }
   ],
   "source": [
    "def check_missing_values(dataframe):\n",
    "    missing_values = dataframe.isnull().sum()\n",
    "    missing_values = missing_values[missing_values > 0]    \n",
    "    if missing_values.empty:\n",
    "        print(\"No missing values found in the DataFrame.\")\n",
    "    else:\n",
    "        print(\"Missing values found in the following columns:\")\n",
    "        print(missing_values)\n",
    "check_missing_values(titanic)\n"
   ]
  },
  {
   "cell_type": "code",
   "execution_count": 27,
   "id": "0ea8e5ea-a5ba-4b96-af8a-6d52c75d496b",
   "metadata": {},
   "outputs": [
    {
     "name": "stdout",
     "output_type": "stream",
     "text": [
      "Number of columns: 11\n",
      "Names of columns: ['PassengerId', 'Pclass', 'Name', 'Sex', 'Age', 'SibSp', 'Parch', 'Ticket', 'Fare', 'Cabin', 'Embarked']\n",
      "Names of Rows: 418\n"
     ]
    }
   ],
   "source": [
    "\n",
    "num_columns = titanic.shape[1]\n",
    "\n",
    "num_rows = titanic.shape[0]\n",
    "\n",
    "column_names = titanic.columns.tolist()\n",
    "print(\"Number of columns:\", num_columns)\n",
    "print(\"Names of columns:\", column_names)\n",
    "print(\"Names of Rows:\", num_rows)"
   ]
  },
  {
   "cell_type": "code",
   "execution_count": 29,
   "id": "ad8cc632-d723-4b4f-8c5f-ef33d43314fb",
   "metadata": {},
   "outputs": [],
   "source": [
    "titanic.drop(columns=['Fare', 'SibSp', 'Cabin'], inplace=True)"
   ]
  },
  {
   "cell_type": "code",
   "execution_count": 31,
   "id": "a66e22f5-1176-40e2-a1ad-623a7536c2d2",
   "metadata": {},
   "outputs": [
    {
     "name": "stdout",
     "output_type": "stream",
     "text": [
      "Number of columns: 8\n",
      "Names of columns: ['PassengerId', 'Pclass', 'Name', 'Sex', 'Age', 'Parch', 'Ticket', 'Embarked']\n",
      "Names of Rows: 418\n"
     ]
    }
   ],
   "source": [
    "\n",
    "num_columns = titanic.shape[1]\n",
    "\n",
    "num_rows = titanic.shape[0]\n",
    "\n",
    "column_names = titanic.columns.tolist()\n",
    "print(\"Number of columns:\", num_columns)\n",
    "print(\"Names of columns:\", column_names)\n",
    "print(\"Names of Rows:\", num_rows)"
   ]
  },
  {
   "cell_type": "code",
   "execution_count": 49,
   "id": "d5c6ad5b-2480-491b-b83f-c4c6d11f1cf4",
   "metadata": {},
   "outputs": [],
   "source": [
    "import datetime\n",
    "titanic['if alive current age'] = datetime.datetime.now().year - 1912 + titanic['Age']"
   ]
  },
  {
   "cell_type": "code",
   "execution_count": 51,
   "id": "805d5895-bab8-4802-b996-d380bbcf3839",
   "metadata": {},
   "outputs": [
    {
     "name": "stdout",
     "output_type": "stream",
     "text": [
      "Number of columns: 9\n",
      "Names of columns: ['PassengerId', 'Pclass', 'Name', 'Sex', 'Age', 'Parch', 'Ticket', 'Embarked', 'if alive current age']\n",
      "Names of Rows: 418\n"
     ]
    }
   ],
   "source": [
    "num_columns = titanic.shape[1]\n",
    "\n",
    "num_rows = titanic.shape[0]\n",
    "\n",
    "column_names = titanic.columns.tolist()\n",
    "print(\"Number of columns:\", num_columns)\n",
    "print(\"Names of columns:\", column_names)\n",
    "print(\"Names of Rows:\", num_rows)"
   ]
  },
  {
   "cell_type": "code",
   "execution_count": 53,
   "id": "fabfb652-7a0a-4407-bc86-0e2c9e2b0df6",
   "metadata": {},
   "outputs": [
    {
     "data": {
      "text/html": [
       "<div>\n",
       "<style scoped>\n",
       "    .dataframe tbody tr th:only-of-type {\n",
       "        vertical-align: middle;\n",
       "    }\n",
       "\n",
       "    .dataframe tbody tr th {\n",
       "        vertical-align: top;\n",
       "    }\n",
       "\n",
       "    .dataframe thead th {\n",
       "        text-align: right;\n",
       "    }\n",
       "</style>\n",
       "<table border=\"1\" class=\"dataframe\">\n",
       "  <thead>\n",
       "    <tr style=\"text-align: right;\">\n",
       "      <th></th>\n",
       "      <th>PassengerId</th>\n",
       "      <th>Pclass</th>\n",
       "      <th>Name</th>\n",
       "      <th>Sex</th>\n",
       "      <th>Age</th>\n",
       "      <th>Parch</th>\n",
       "      <th>Ticket</th>\n",
       "      <th>Embarked</th>\n",
       "      <th>if alive current age</th>\n",
       "    </tr>\n",
       "  </thead>\n",
       "  <tbody>\n",
       "    <tr>\n",
       "      <th>0</th>\n",
       "      <td>892</td>\n",
       "      <td>3</td>\n",
       "      <td>Kelly, Mr. James</td>\n",
       "      <td>male</td>\n",
       "      <td>34.5</td>\n",
       "      <td>0</td>\n",
       "      <td>330911</td>\n",
       "      <td>Q</td>\n",
       "      <td>146.5</td>\n",
       "    </tr>\n",
       "    <tr>\n",
       "      <th>1</th>\n",
       "      <td>893</td>\n",
       "      <td>3</td>\n",
       "      <td>Wilkes, Mrs. James (Ellen Needs)</td>\n",
       "      <td>female</td>\n",
       "      <td>47.0</td>\n",
       "      <td>0</td>\n",
       "      <td>363272</td>\n",
       "      <td>S</td>\n",
       "      <td>159.0</td>\n",
       "    </tr>\n",
       "    <tr>\n",
       "      <th>2</th>\n",
       "      <td>894</td>\n",
       "      <td>2</td>\n",
       "      <td>Myles, Mr. Thomas Francis</td>\n",
       "      <td>male</td>\n",
       "      <td>62.0</td>\n",
       "      <td>0</td>\n",
       "      <td>240276</td>\n",
       "      <td>Q</td>\n",
       "      <td>174.0</td>\n",
       "    </tr>\n",
       "    <tr>\n",
       "      <th>3</th>\n",
       "      <td>895</td>\n",
       "      <td>3</td>\n",
       "      <td>Wirz, Mr. Albert</td>\n",
       "      <td>male</td>\n",
       "      <td>27.0</td>\n",
       "      <td>0</td>\n",
       "      <td>315154</td>\n",
       "      <td>S</td>\n",
       "      <td>139.0</td>\n",
       "    </tr>\n",
       "    <tr>\n",
       "      <th>4</th>\n",
       "      <td>896</td>\n",
       "      <td>3</td>\n",
       "      <td>Hirvonen, Mrs. Alexander (Helga E Lindqvist)</td>\n",
       "      <td>female</td>\n",
       "      <td>22.0</td>\n",
       "      <td>1</td>\n",
       "      <td>3101298</td>\n",
       "      <td>S</td>\n",
       "      <td>134.0</td>\n",
       "    </tr>\n",
       "    <tr>\n",
       "      <th>5</th>\n",
       "      <td>897</td>\n",
       "      <td>3</td>\n",
       "      <td>Svensson, Mr. Johan Cervin</td>\n",
       "      <td>male</td>\n",
       "      <td>14.0</td>\n",
       "      <td>0</td>\n",
       "      <td>7538</td>\n",
       "      <td>S</td>\n",
       "      <td>126.0</td>\n",
       "    </tr>\n",
       "    <tr>\n",
       "      <th>6</th>\n",
       "      <td>898</td>\n",
       "      <td>3</td>\n",
       "      <td>Connolly, Miss. Kate</td>\n",
       "      <td>female</td>\n",
       "      <td>30.0</td>\n",
       "      <td>0</td>\n",
       "      <td>330972</td>\n",
       "      <td>Q</td>\n",
       "      <td>142.0</td>\n",
       "    </tr>\n",
       "    <tr>\n",
       "      <th>7</th>\n",
       "      <td>899</td>\n",
       "      <td>2</td>\n",
       "      <td>Caldwell, Mr. Albert Francis</td>\n",
       "      <td>male</td>\n",
       "      <td>26.0</td>\n",
       "      <td>1</td>\n",
       "      <td>248738</td>\n",
       "      <td>S</td>\n",
       "      <td>138.0</td>\n",
       "    </tr>\n",
       "    <tr>\n",
       "      <th>8</th>\n",
       "      <td>900</td>\n",
       "      <td>3</td>\n",
       "      <td>Abrahim, Mrs. Joseph (Sophie Halaut Easu)</td>\n",
       "      <td>female</td>\n",
       "      <td>18.0</td>\n",
       "      <td>0</td>\n",
       "      <td>2657</td>\n",
       "      <td>C</td>\n",
       "      <td>130.0</td>\n",
       "    </tr>\n",
       "    <tr>\n",
       "      <th>9</th>\n",
       "      <td>901</td>\n",
       "      <td>3</td>\n",
       "      <td>Davies, Mr. John Samuel</td>\n",
       "      <td>male</td>\n",
       "      <td>21.0</td>\n",
       "      <td>0</td>\n",
       "      <td>A/4 48871</td>\n",
       "      <td>S</td>\n",
       "      <td>133.0</td>\n",
       "    </tr>\n",
       "  </tbody>\n",
       "</table>\n",
       "</div>"
      ],
      "text/plain": [
       "   PassengerId  Pclass                                          Name     Sex  \\\n",
       "0          892       3                              Kelly, Mr. James    male   \n",
       "1          893       3              Wilkes, Mrs. James (Ellen Needs)  female   \n",
       "2          894       2                     Myles, Mr. Thomas Francis    male   \n",
       "3          895       3                              Wirz, Mr. Albert    male   \n",
       "4          896       3  Hirvonen, Mrs. Alexander (Helga E Lindqvist)  female   \n",
       "5          897       3                    Svensson, Mr. Johan Cervin    male   \n",
       "6          898       3                          Connolly, Miss. Kate  female   \n",
       "7          899       2                  Caldwell, Mr. Albert Francis    male   \n",
       "8          900       3     Abrahim, Mrs. Joseph (Sophie Halaut Easu)  female   \n",
       "9          901       3                       Davies, Mr. John Samuel    male   \n",
       "\n",
       "    Age  Parch     Ticket Embarked  if alive current age  \n",
       "0  34.5      0     330911        Q                 146.5  \n",
       "1  47.0      0     363272        S                 159.0  \n",
       "2  62.0      0     240276        Q                 174.0  \n",
       "3  27.0      0     315154        S                 139.0  \n",
       "4  22.0      1    3101298        S                 134.0  \n",
       "5  14.0      0       7538        S                 126.0  \n",
       "6  30.0      0     330972        Q                 142.0  \n",
       "7  26.0      1     248738        S                 138.0  \n",
       "8  18.0      0       2657        C                 130.0  \n",
       "9  21.0      0  A/4 48871        S                 133.0  "
      ]
     },
     "execution_count": 53,
     "metadata": {},
     "output_type": "execute_result"
    }
   ],
   "source": [
    "titanic.head(10)"
   ]
  },
  {
   "cell_type": "code",
   "execution_count": 59,
   "id": "9e275aa7-9cd7-4b3e-9b15-c9eb7ce58c26",
   "metadata": {},
   "outputs": [
    {
     "data": {
      "image/png": "[encoded data removed]",
      "text/plain": [
       "<Figure size 800x600 with 1 Axes>"
      ]
     },
     "metadata": {},
     "output_type": "display_data"
    }
   ],
   "source": [
    "import matplotlib.pyplot as plt\n",
    "\n",
    "plt.figure(figsize=(8, 6))\n",
    "plt.hist(titanic['if alive current age'], bins=20, color='skyblue', edgecolor='black')\n",
    "plt.title('Distribution of Age (If Alive)', fontsize=14)\n",
    "plt.xlabel('Age (If Alive)', fontsize=12)\n",
    "plt.ylabel('Number of Passengers', fontsize=12)\n",
    "\n",
    "# Show the plot\n",
    "plt.show()"
   ]
  },
  {
   "cell_type": "code",
   "execution_count": null,
   "id": "1b9b4056-5809-4ea0-a167-35f2e0e2c2a9",
   "metadata": {},
   "outputs": [],
   "source": []
  }
 ],
 "metadata": {
  "kernelspec": {
   "display_name": "Python 3 (ipykernel)",
   "language": "python",
   "name": "python3"
  },
  "language_info": {
   "codemirror_mode": {
    "name": "ipython",
    "version": 3
   },
   "file_extension": ".py",
   "mimetype": "text/x-python",
   "name": "python",
   "nbconvert_exporter": "python",
   "pygments_lexer": "ipython3",
   "version": "3.12.4"
  }
 },
 "nbformat": 4,
 "nbformat_minor": 5
}
